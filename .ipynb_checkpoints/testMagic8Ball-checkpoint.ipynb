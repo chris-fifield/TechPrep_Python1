{
 "cells": [
  {
   "cell_type": "code",
   "execution_count": 1,
   "id": "261ff611-38a9-4b8e-a283-a8762c63b059",
   "metadata": {},
   "outputs": [
    {
     "name": "stdout",
     "output_type": "stream",
     "text": [
      "Ask the magic 8 ball a question: \n"
     ]
    },
    {
     "name": "stdin",
     "output_type": "stream",
     "text": [
      " Should I code python?\n"
     ]
    },
    {
     "name": "stdout",
     "output_type": "stream",
     "text": [
      "Yes.\n",
      "\n",
      "Do you have any more questions? (Y/N) \n"
     ]
    },
    {
     "name": "stdin",
     "output_type": "stream",
     "text": [
      " y\n"
     ]
    },
    {
     "name": "stdout",
     "output_type": "stream",
     "text": [
      "Ask the magic 8 ball a question: \n"
     ]
    },
    {
     "name": "stdin",
     "output_type": "stream",
     "text": [
      " Should I make a web page?\n"
     ]
    },
    {
     "name": "stdout",
     "output_type": "stream",
     "text": [
      "My sources say no.\n",
      "\n",
      "Do you have any more questions? (Y/N) \n"
     ]
    },
    {
     "name": "stdin",
     "output_type": "stream",
     "text": [
      " n\n"
     ]
    }
   ],
   "source": [
    "import Magic8Ball as m\n",
    "\n",
    "userHasQuestions = True\n",
    "\n",
    "while userHasQuestions:\n",
    "    print(\"Ask the magic 8 ball a question: \")\n",
    "    input()\n",
    "    m.magic8Ball()\n",
    "    print(\"\\nDo you have any more questions? (Y/N) \")\n",
    "    a = input().upper()\n",
    "    if a != 'Y':\n",
    "        userHasQuestions = False"
   ]
  },
  {
   "cell_type": "code",
   "execution_count": null,
   "id": "0f9196f1-2b10-418e-a4d2-e7ebb6f144dc",
   "metadata": {},
   "outputs": [],
   "source": []
  }
 ],
 "metadata": {
  "kernelspec": {
   "display_name": "Python 3 (ipykernel)",
   "language": "python",
   "name": "python3"
  },
  "language_info": {
   "codemirror_mode": {
    "name": "ipython",
    "version": 3
   },
   "file_extension": ".py",
   "mimetype": "text/x-python",
   "name": "python",
   "nbconvert_exporter": "python",
   "pygments_lexer": "ipython3",
   "version": "3.13.5"
  }
 },
 "nbformat": 4,
 "nbformat_minor": 5
}
